{
  "nbformat": 4,
  "nbformat_minor": 0,
  "metadata": {
    "colab": {
      "provenance": [],
      "authorship_tag": "ABX9TyPaedm5gEshyBLy7LvrSJ9A",
      "include_colab_link": true
    },
    "kernelspec": {
      "name": "python3",
      "display_name": "Python 3"
    },
    "language_info": {
      "name": "python"
    }
  },
  "cells": [
    {
      "cell_type": "markdown",
      "metadata": {
        "id": "view-in-github",
        "colab_type": "text"
      },
      "source": [
        "<a href=\"https://colab.research.google.com/github/70077898/usamaferoz/blob/main/Untitled1.ipynb\" target=\"_parent\"><img src=\"https://colab.research.google.com/assets/colab-badge.svg\" alt=\"Open In Colab\"/></a>"
      ]
    },
    {
      "cell_type": "code",
      "execution_count": null,
      "metadata": {
        "id": "jzKXyouRhDXn"
      },
      "outputs": [],
      "source": [
        "class Person:\n",
        "    def __init__(self, name, age, address):\n",
        "        self.name = name\n",
        "        self.age = age\n",
        "        self.address = address\n",
        "\n",
        "    def display_info(self):\n",
        "        print(f\"Name: {self.name}, Age: {self.age}, Address: {self.address}\")\n",
        "\n",
        "    def get_name(self):\n",
        "        return self.name\n",
        "\n",
        "    def set_name(self, new_name):\n",
        "        self.name = new_name\n",
        "\n",
        "    def get_age(self):\n",
        "        return self.age\n",
        "\n",
        "    def set_age(self, new_age):\n",
        "        self.age = new_age\n",
        "\n",
        "    def get_address(self):\n",
        "        return self.address\n",
        "\n",
        "    def set_address(self, new_address):\n",
        "        self.address = new_address\n",
        "\n",
        "\n",
        "person1 = Person(name=\"Ali\", age=25, address=\"University of lahore\")\n",
        "\n",
        "print(\"Name:\", person1.get_name())\n",
        "print(\"Age:\", person1.get_age())\n",
        "print(\"Address:\", person1.get_address())\n",
        "\n",
        "person1.set_name(\"Ali\")\n",
        "person1.set_age(30)\n",
        "person1.set_address(\"valencia\")\n",
        "\n",
        "print(\"\\nUpdated Information:\")\n",
        "person1.display_info()"
      ]
    }
  ]
}